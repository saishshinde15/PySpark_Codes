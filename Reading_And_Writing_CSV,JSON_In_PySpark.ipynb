{
  "nbformat": 4,
  "nbformat_minor": 0,
  "metadata": {
    "colab": {
      "provenance": [],
      "authorship_tag": "ABX9TyN+LbbEiQk7cOM3VtDEdVC9",
      "include_colab_link": true
    },
    "kernelspec": {
      "name": "python3",
      "display_name": "Python 3"
    },
    "language_info": {
      "name": "python"
    }
  },
  "cells": [
    {
      "cell_type": "markdown",
      "metadata": {
        "id": "view-in-github",
        "colab_type": "text"
      },
      "source": [
        "<a href=\"https://colab.research.google.com/github/saishshinde15/PySpark_Codes/blob/main/Reading_And_Writing_CSV%2CJSON_In_PySpark.ipynb\" target=\"_parent\"><img src=\"https://colab.research.google.com/assets/colab-badge.svg\" alt=\"Open In Colab\"/></a>"
      ]
    },
    {
      "cell_type": "code",
      "execution_count": 1,
      "metadata": {
        "colab": {
          "base_uri": "https://localhost:8080/"
        },
        "id": "JBgcODBkKfw9",
        "outputId": "9378954e-ba18-4035-884f-44b3fd5b7a9c"
      },
      "outputs": [
        {
          "output_type": "stream",
          "name": "stdout",
          "text": [
            "Requirement already satisfied: pyspark in /usr/local/lib/python3.10/dist-packages (3.5.3)\n",
            "Requirement already satisfied: py4j==0.10.9.7 in /usr/local/lib/python3.10/dist-packages (from pyspark) (0.10.9.7)\n"
          ]
        }
      ],
      "source": [
        "pip install pyspark"
      ]
    },
    {
      "cell_type": "code",
      "source": [
        "from pyspark.sql import SparkSession"
      ],
      "metadata": {
        "id": "1n4GsGOAKkVA"
      },
      "execution_count": 2,
      "outputs": []
    },
    {
      "cell_type": "code",
      "source": [
        "spark = SparkSession.builder.appName(\"Reading_CSV\").getOrCreate()"
      ],
      "metadata": {
        "id": "rX_uT1UGKl_r"
      },
      "execution_count": 3,
      "outputs": []
    },
    {
      "cell_type": "markdown",
      "source": [
        "## Reading a csv using pyspark sql\n"
      ],
      "metadata": {
        "id": "Ti0utiupLwSO"
      }
    },
    {
      "cell_type": "code",
      "source": [
        "csv_path = '/content/property-sales.csv'\n",
        "\n",
        "# Read a csv file from Files/property-sales.csv\n",
        "df_csv = spark.read.csv(csv_path, header=True)\n",
        "\n",
        "display(df_csv)"
      ],
      "metadata": {
        "colab": {
          "base_uri": "https://localhost:8080/",
          "height": 34
        },
        "id": "UqqYtb3xKpvm",
        "outputId": "dc3fc19f-ebdb-4789-a62b-1504d417e75f"
      },
      "execution_count": 4,
      "outputs": [
        {
          "output_type": "display_data",
          "data": {
            "text/plain": [
              "DataFrame[Address : string, Type: string, City : string, SalePrice ($): string, Agent: string]"
            ]
          },
          "metadata": {}
        }
      ]
    },
    {
      "cell_type": "code",
      "source": [
        "df_csv.dtypes"
      ],
      "metadata": {
        "colab": {
          "base_uri": "https://localhost:8080/"
        },
        "id": "98bPdP8XLO6a",
        "outputId": "b142b430-871e-4989-9b26-d6deca8d4511"
      },
      "execution_count": 6,
      "outputs": [
        {
          "output_type": "execute_result",
          "data": {
            "text/plain": [
              "[('Address ', 'string'),\n",
              " ('Type', 'string'),\n",
              " ('City ', 'string'),\n",
              " ('SalePrice ($)', 'string'),\n",
              " ('Agent', 'string')]"
            ]
          },
          "metadata": {},
          "execution_count": 6
        }
      ]
    },
    {
      "cell_type": "code",
      "source": [
        "from pyspark.sql.types import IntegerType # changing dtypes\n",
        "\n",
        "df_csv = df_csv.withColumn(\"SalePrice ($)\", df_csv[\"SalePrice ($)\"].cast(IntegerType()))\n",
        "df_csv.dtypes\n",
        "display(df_csv)\n"
      ],
      "metadata": {
        "colab": {
          "base_uri": "https://localhost:8080/",
          "height": 34
        },
        "id": "kKTRlzbvLSag",
        "outputId": "e4faaa8c-97ec-458d-f389-7924ec8ba8b8"
      },
      "execution_count": 8,
      "outputs": [
        {
          "output_type": "display_data",
          "data": {
            "text/plain": [
              "DataFrame[Address : string, Type: string, City : string, SalePrice ($): int, Agent: string]"
            ]
          },
          "metadata": {}
        }
      ]
    },
    {
      "cell_type": "code",
      "source": [
        "df_csv.show()"
      ],
      "metadata": {
        "colab": {
          "base_uri": "https://localhost:8080/"
        },
        "id": "jjVgiVQ9MdHa",
        "outputId": "4ee39ab1-669a-4a36-dab6-80f70daccdea"
      },
      "execution_count": 11,
      "outputs": [
        {
          "output_type": "stream",
          "name": "stdout",
          "text": [
            "+-------------------+--------------+-----------+-------------+-----------------+\n",
            "|           Address |          Type|      City |SalePrice ($)|            Agent|\n",
            "+-------------------+--------------+-----------+-------------+-----------------+\n",
            "|   1 Rowley Street |Detached House|   New York|       745000|Penelope Pullman |\n",
            "|13a lollipop avenue|     Apartment|Los Angeles|       345000|      Jack Smith |\n",
            "|       34 the drive|         House|    Atlanta|       459000|     Sheila Sammi|\n",
            "+-------------------+--------------+-----------+-------------+-----------------+\n",
            "\n"
          ]
        }
      ]
    },
    {
      "cell_type": "markdown",
      "source": [
        "## Write Json files(convert csv in json file)"
      ],
      "metadata": {
        "id": "VemA_sEBMPyU"
      }
    },
    {
      "cell_type": "code",
      "source": [
        "df_csv.write.json(\"/content/Different_Files/json/property-sales.json\", mode='overwrite') #/content/Different_Files"
      ],
      "metadata": {
        "id": "MsAlLGrILf3V"
      },
      "execution_count": 9,
      "outputs": []
    },
    {
      "cell_type": "markdown",
      "source": [
        "# Read json file"
      ],
      "metadata": {
        "id": "pS5QsLbrP51Q"
      }
    },
    {
      "cell_type": "code",
      "source": [
        "df_json=spark.read.json(\"/content/Different_Files/json/property-sales.json\")\n",
        "display(df_json)"
      ],
      "metadata": {
        "colab": {
          "base_uri": "https://localhost:8080/",
          "height": 34
        },
        "id": "UlUtK9tkMLZI",
        "outputId": "f652e8d8-a58c-480e-d908-85f83bf61df7"
      },
      "execution_count": 10,
      "outputs": [
        {
          "output_type": "display_data",
          "data": {
            "text/plain": [
              "DataFrame[Address : string, Agent: string, City : string, SalePrice ($): bigint, Type: string]"
            ]
          },
          "metadata": {}
        }
      ]
    },
    {
      "cell_type": "code",
      "source": [
        "df_json.show()"
      ],
      "metadata": {
        "colab": {
          "base_uri": "https://localhost:8080/"
        },
        "id": "lDZExeCMMX3V",
        "outputId": "996da770-ec7f-4cf0-a714-e0e3cc50475d"
      },
      "execution_count": 13,
      "outputs": [
        {
          "output_type": "stream",
          "name": "stdout",
          "text": [
            "+-------------------+-----------------+-----------+-------------+--------------+\n",
            "|           Address |            Agent|      City |SalePrice ($)|          Type|\n",
            "+-------------------+-----------------+-----------+-------------+--------------+\n",
            "|   1 Rowley Street |Penelope Pullman |   New York|       745000|Detached House|\n",
            "|13a lollipop avenue|      Jack Smith |Los Angeles|       345000|     Apartment|\n",
            "|       34 the drive|     Sheila Sammi|    Atlanta|       459000|         House|\n",
            "+-------------------+-----------------+-----------+-------------+--------------+\n",
            "\n"
          ]
        }
      ]
    },
    {
      "cell_type": "markdown",
      "source": [
        "# Using pyspark pandas"
      ],
      "metadata": {
        "id": "Vso1_TGZP8aC"
      }
    },
    {
      "cell_type": "code",
      "source": [
        "import pandas as pd\n",
        "import numpy as np\n",
        "import pyspark.pandas as ps"
      ],
      "metadata": {
        "colab": {
          "base_uri": "https://localhost:8080/"
        },
        "id": "vluVaW5nNjs-",
        "outputId": "639bbcf9-127e-4bfb-a927-6b332cc62ac0"
      },
      "execution_count": 17,
      "outputs": [
        {
          "output_type": "stream",
          "name": "stderr",
          "text": [
            "/usr/local/lib/python3.10/dist-packages/pyspark/pandas/__init__.py:50: UserWarning: 'PYARROW_IGNORE_TIMEZONE' environment variable was not set. It is required to set this environment variable to '1' in both driver and executor sides if you use pyarrow>=2.0.0. pandas-on-Spark will set it for you but it does not work if there is a Spark context already launched.\n",
            "  warnings.warn(\n"
          ]
        }
      ]
    },
    {
      "cell_type": "code",
      "source": [
        "df_csv_pandas= ps.read_csv(\"/content/property-sales.csv\")"
      ],
      "metadata": {
        "id": "NK9stouEOHtu"
      },
      "execution_count": 21,
      "outputs": []
    },
    {
      "cell_type": "code",
      "source": [
        "df_csv_pandas"
      ],
      "metadata": {
        "colab": {
          "base_uri": "https://localhost:8080/",
          "height": 143
        },
        "id": "qdfsFMEDOaBN",
        "outputId": "98ac1921-5fe2-4474-ef29-a77280defdc6"
      },
      "execution_count": 22,
      "outputs": [
        {
          "output_type": "execute_result",
          "data": {
            "text/plain": [
              "              Address             Type        City   SalePrice ($)              Agent\n",
              "0     1 Rowley Street   Detached House     New York         745000  Penelope Pullman \n",
              "1  13a lollipop avenue       Apartment  Los Angeles         345000        Jack Smith \n",
              "2         34 the drive           House      Atlanta         459000       Sheila Sammi"
            ],
            "text/html": [
              "<div>\n",
              "<style scoped>\n",
              "    .dataframe tbody tr th:only-of-type {\n",
              "        vertical-align: middle;\n",
              "    }\n",
              "\n",
              "    .dataframe tbody tr th {\n",
              "        vertical-align: top;\n",
              "    }\n",
              "\n",
              "    .dataframe thead th {\n",
              "        text-align: right;\n",
              "    }\n",
              "</style>\n",
              "<table border=\"1\" class=\"dataframe\">\n",
              "  <thead>\n",
              "    <tr style=\"text-align: right;\">\n",
              "      <th></th>\n",
              "      <th>Address</th>\n",
              "      <th>Type</th>\n",
              "      <th>City</th>\n",
              "      <th>SalePrice ($)</th>\n",
              "      <th>Agent</th>\n",
              "    </tr>\n",
              "  </thead>\n",
              "  <tbody>\n",
              "    <tr>\n",
              "      <th>0</th>\n",
              "      <td>1 Rowley Street</td>\n",
              "      <td>Detached House</td>\n",
              "      <td>New York</td>\n",
              "      <td>745000</td>\n",
              "      <td>Penelope Pullman</td>\n",
              "    </tr>\n",
              "    <tr>\n",
              "      <th>1</th>\n",
              "      <td>13a lollipop avenue</td>\n",
              "      <td>Apartment</td>\n",
              "      <td>Los Angeles</td>\n",
              "      <td>345000</td>\n",
              "      <td>Jack Smith</td>\n",
              "    </tr>\n",
              "    <tr>\n",
              "      <th>2</th>\n",
              "      <td>34 the drive</td>\n",
              "      <td>House</td>\n",
              "      <td>Atlanta</td>\n",
              "      <td>459000</td>\n",
              "      <td>Sheila Sammi</td>\n",
              "    </tr>\n",
              "  </tbody>\n",
              "</table>\n",
              "</div>"
            ]
          },
          "metadata": {},
          "execution_count": 22
        }
      ]
    },
    {
      "cell_type": "markdown",
      "source": [
        "### In pyspark pandas you can only read the file but now write the file i.e convert it in json or any other format.\n",
        "### To do so you need to change/convert the pandas to dataframe again"
      ],
      "metadata": {
        "id": "JEnTu9fsQApD"
      }
    },
    {
      "cell_type": "markdown",
      "source": [
        "# Convert Pandas to DataFrame"
      ],
      "metadata": {
        "id": "hsKqIp6EQVLd"
      }
    },
    {
      "cell_type": "code",
      "source": [
        "df_csv_convert=df_csv_pandas.to_spark()\n"
      ],
      "metadata": {
        "colab": {
          "base_uri": "https://localhost:8080/"
        },
        "id": "GuoA6t8TPbBb",
        "outputId": "33904826-74d0-49ae-c47d-c7f5b0cc1efa"
      },
      "execution_count": 23,
      "outputs": [
        {
          "output_type": "stream",
          "name": "stderr",
          "text": [
            "/usr/local/lib/python3.10/dist-packages/pyspark/pandas/utils.py:1016: PandasAPIOnSparkAdviceWarning: If `index_col` is not specified for `to_spark`, the existing index is lost when converting to Spark DataFrame.\n",
            "  warnings.warn(message, PandasAPIOnSparkAdviceWarning)\n"
          ]
        }
      ]
    },
    {
      "cell_type": "code",
      "source": [
        "display(df_csv_convert)"
      ],
      "metadata": {
        "colab": {
          "base_uri": "https://localhost:8080/",
          "height": 34
        },
        "id": "dIO9a_vtPmiP",
        "outputId": "05a5c59c-44ab-4794-9fc2-dc334bc42d20"
      },
      "execution_count": 24,
      "outputs": [
        {
          "output_type": "display_data",
          "data": {
            "text/plain": [
              "DataFrame[Address : string, Type: string, City : string, SalePrice ($): int, Agent: string]"
            ]
          },
          "metadata": {}
        }
      ]
    },
    {
      "cell_type": "code",
      "source": [
        "df_csv_convert.show()"
      ],
      "metadata": {
        "colab": {
          "base_uri": "https://localhost:8080/"
        },
        "id": "ooWxlKXAPszV",
        "outputId": "39685ce1-1a78-4a16-d22c-0bc1ad8576b6"
      },
      "execution_count": 25,
      "outputs": [
        {
          "output_type": "stream",
          "name": "stdout",
          "text": [
            "+-------------------+--------------+-----------+-------------+-----------------+\n",
            "|           Address |          Type|      City |SalePrice ($)|            Agent|\n",
            "+-------------------+--------------+-----------+-------------+-----------------+\n",
            "|   1 Rowley Street |Detached House|   New York|       745000|Penelope Pullman |\n",
            "|13a lollipop avenue|     Apartment|Los Angeles|       345000|      Jack Smith |\n",
            "|       34 the drive|         House|    Atlanta|       459000|     Sheila Sammi|\n",
            "+-------------------+--------------+-----------+-------------+-----------------+\n",
            "\n"
          ]
        }
      ]
    },
    {
      "cell_type": "code",
      "source": [
        "df_csv_convert.write.json(\"/content/Different_Files/json/property-sales1.json\", mode='overwrite') #/content/Different_Files"
      ],
      "metadata": {
        "id": "wSqtfInXPwvY"
      },
      "execution_count": 27,
      "outputs": []
    },
    {
      "cell_type": "code",
      "source": [
        "df_json_after_converstion=spark.read.json(\"/content/Different_Files/json/property-sales1.json\")\n",
        "display(df_json_after_converstion)"
      ],
      "metadata": {
        "colab": {
          "base_uri": "https://localhost:8080/",
          "height": 34
        },
        "id": "TZP_ErSQQx6K",
        "outputId": "42b9966e-bee2-4d92-d3fa-9cba8bd2db0a"
      },
      "execution_count": 28,
      "outputs": [
        {
          "output_type": "display_data",
          "data": {
            "text/plain": [
              "DataFrame[Address : string, Agent: string, City : string, SalePrice ($): bigint, Type: string]"
            ]
          },
          "metadata": {}
        }
      ]
    },
    {
      "cell_type": "code",
      "source": [
        "df_json_after_converstion.show()"
      ],
      "metadata": {
        "colab": {
          "base_uri": "https://localhost:8080/"
        },
        "id": "SNYxLlgzQ9Sk",
        "outputId": "b5d87213-429a-4cd1-e974-c52d248aec22"
      },
      "execution_count": 29,
      "outputs": [
        {
          "output_type": "stream",
          "name": "stdout",
          "text": [
            "+-------------------+-----------------+-----------+-------------+--------------+\n",
            "|           Address |            Agent|      City |SalePrice ($)|          Type|\n",
            "+-------------------+-----------------+-----------+-------------+--------------+\n",
            "|   1 Rowley Street |Penelope Pullman |   New York|       745000|Detached House|\n",
            "|13a lollipop avenue|      Jack Smith |Los Angeles|       345000|     Apartment|\n",
            "|       34 the drive|     Sheila Sammi|    Atlanta|       459000|         House|\n",
            "+-------------------+-----------------+-----------+-------------+--------------+\n",
            "\n"
          ]
        }
      ]
    },
    {
      "cell_type": "code",
      "source": [],
      "metadata": {
        "id": "SPCJRX2WQ_Gl"
      },
      "execution_count": null,
      "outputs": []
    }
  ]
}