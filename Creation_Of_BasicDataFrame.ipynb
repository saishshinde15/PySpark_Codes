{
  "nbformat": 4,
  "nbformat_minor": 0,
  "metadata": {
    "colab": {
      "provenance": [],
      "authorship_tag": "ABX9TyOEEEk0hVk1dAD/j5GFBGwI",
      "include_colab_link": true
    },
    "kernelspec": {
      "name": "python3",
      "display_name": "Python 3"
    },
    "language_info": {
      "name": "python"
    }
  },
  "cells": [
    {
      "cell_type": "markdown",
      "metadata": {
        "id": "view-in-github",
        "colab_type": "text"
      },
      "source": [
        "<a href=\"https://colab.research.google.com/github/saishshinde15/PySpark_Codes/blob/main/Creation_Of_BasicDataFrame.ipynb\" target=\"_parent\"><img src=\"https://colab.research.google.com/assets/colab-badge.svg\" alt=\"Open In Colab\"/></a>"
      ]
    },
    {
      "cell_type": "code",
      "execution_count": 1,
      "metadata": {
        "colab": {
          "base_uri": "https://localhost:8080/"
        },
        "id": "pjxQurmm8MO7",
        "outputId": "dd028af3-4842-42ef-cd46-a43454d859a0"
      },
      "outputs": [
        {
          "output_type": "stream",
          "name": "stdout",
          "text": [
            "Requirement already satisfied: pyspark in /usr/local/lib/python3.10/dist-packages (3.5.3)\n",
            "Requirement already satisfied: py4j==0.10.9.7 in /usr/local/lib/python3.10/dist-packages (from pyspark) (0.10.9.7)\n"
          ]
        }
      ],
      "source": [
        "pip install pyspark"
      ]
    },
    {
      "cell_type": "code",
      "source": [
        "from pyspark.sql import SparkSession"
      ],
      "metadata": {
        "id": "7SfLnFnx9bC1"
      },
      "execution_count": 8,
      "outputs": []
    },
    {
      "cell_type": "code",
      "source": [
        "spark = SparkSession.builder.appName(\"DataFrameCreation\").getOrCreate()"
      ],
      "metadata": {
        "id": "JHvLAZ5B9cQm"
      },
      "execution_count": 9,
      "outputs": []
    },
    {
      "cell_type": "code",
      "source": [
        "from pyspark.sql.types import StructType,StructField, StringType, IntegerType"
      ],
      "metadata": {
        "id": "Jff6IiUQ8Spz"
      },
      "execution_count": 2,
      "outputs": []
    },
    {
      "cell_type": "code",
      "source": [
        "data2 = [(\"Jack\",\"\",\"Eldridge\",\"36636\",\"M\",90000),\n",
        "    (\"Matthew\",\"J\", \"Munro\",\"28832\",\"M\",45400),\n",
        "    (\"Sheila\",\"Oway\", \"Roberts\",\"12114\",\"F\",64000),\n",
        "    (\"Anne\",\"\", \"Dushane\",\"32192\",\"F\",141000),\n",
        "    (\"Jane\",\"Rebecca\",\"Jones\",\"99482\",\"F\",56000)\n",
        "  ]"
      ],
      "metadata": {
        "id": "Pcd0j2J48b17"
      },
      "execution_count": 3,
      "outputs": []
    },
    {
      "cell_type": "markdown",
      "source": [
        "## Method 1"
      ],
      "metadata": {
        "id": "Bc0c-6gx9_Ff"
      }
    },
    {
      "cell_type": "code",
      "source": [
        "schema = StructType([\n",
        "    StructField(\"firstname\",StringType(),True),\n",
        "    StructField(\"middlename\",StringType(),True),\n",
        "    StructField(\"lastname\",StringType(),True),\n",
        "    StructField(\"id\", StringType(), True),\n",
        "    StructField(\"gender\", StringType(), True),\n",
        "    StructField(\"salary\", IntegerType(), True)\n",
        "  ])"
      ],
      "metadata": {
        "id": "EPRDTh_T8w_8"
      },
      "execution_count": 13,
      "outputs": []
    },
    {
      "cell_type": "code",
      "source": [
        "df = spark.createDataFrame(data=data2,schema=schema)\n",
        "df.printSchema()\n",
        "df.show(truncate=False)"
      ],
      "metadata": {
        "colab": {
          "base_uri": "https://localhost:8080/"
        },
        "id": "fcHwmHLN9Ppy",
        "outputId": "dc0f1e07-9510-4f53-a87a-cf42fd9a994d"
      },
      "execution_count": 14,
      "outputs": [
        {
          "output_type": "stream",
          "name": "stdout",
          "text": [
            "root\n",
            " |-- firstname: string (nullable = true)\n",
            " |-- middlename: string (nullable = true)\n",
            " |-- lastname: string (nullable = true)\n",
            " |-- id: string (nullable = true)\n",
            " |-- gender: string (nullable = true)\n",
            " |-- salary: integer (nullable = true)\n",
            "\n",
            "+---------+----------+--------+-----+------+------+\n",
            "|firstname|middlename|lastname|id   |gender|salary|\n",
            "+---------+----------+--------+-----+------+------+\n",
            "|Jack     |          |Eldridge|36636|M     |90000 |\n",
            "|Matthew  |J         |Munro   |28832|M     |45400 |\n",
            "|Sheila   |Oway      |Roberts |12114|F     |64000 |\n",
            "|Anne     |          |Dushane |32192|F     |141000|\n",
            "|Jane     |Rebecca   |Jones   |99482|F     |56000 |\n",
            "+---------+----------+--------+-----+------+------+\n",
            "\n"
          ]
        }
      ]
    },
    {
      "cell_type": "markdown",
      "source": [
        "## Method 2(using Data Definition Language (DDL))"
      ],
      "metadata": {
        "id": "-vWKqstp-Bqv"
      }
    },
    {
      "cell_type": "code",
      "source": [
        "schema_ddl = \"firstname STRING, middlename STRING, lastname STRING, id STRING, gender STRING, salary INT \"\n",
        "df_with_ddl_schema = spark.createDataFrame(data=data2,schema=schema_ddl)\n",
        "df.printSchema()\n",
        "df.show(truncate=False)\n"
      ],
      "metadata": {
        "colab": {
          "base_uri": "https://localhost:8080/"
        },
        "id": "RahzBRBY9Tr3",
        "outputId": "41b44c75-3d88-4b35-99da-071be57e6060"
      },
      "execution_count": 15,
      "outputs": [
        {
          "output_type": "stream",
          "name": "stdout",
          "text": [
            "root\n",
            " |-- firstname: string (nullable = true)\n",
            " |-- middlename: string (nullable = true)\n",
            " |-- lastname: string (nullable = true)\n",
            " |-- id: string (nullable = true)\n",
            " |-- gender: string (nullable = true)\n",
            " |-- salary: integer (nullable = true)\n",
            "\n",
            "+---------+----------+--------+-----+------+------+\n",
            "|firstname|middlename|lastname|id   |gender|salary|\n",
            "+---------+----------+--------+-----+------+------+\n",
            "|Jack     |          |Eldridge|36636|M     |90000 |\n",
            "|Matthew  |J         |Munro   |28832|M     |45400 |\n",
            "|Sheila   |Oway      |Roberts |12114|F     |64000 |\n",
            "|Anne     |          |Dushane |32192|F     |141000|\n",
            "|Jane     |Rebecca   |Jones   |99482|F     |56000 |\n",
            "+---------+----------+--------+-----+------+------+\n",
            "\n"
          ]
        }
      ]
    },
    {
      "cell_type": "code",
      "source": [
        "import pandas as pd\n",
        "import numpy as np\n",
        "import pyspark.pandas as ps\n",
        "#from pyspark.sql import SparkSession"
      ],
      "metadata": {
        "colab": {
          "base_uri": "https://localhost:8080/"
        },
        "id": "Uze-Gbyk-UYf",
        "outputId": "73eae1a7-9a91-40f7-db63-edd58b743e93"
      },
      "execution_count": 18,
      "outputs": [
        {
          "output_type": "stream",
          "name": "stderr",
          "text": [
            "/usr/local/lib/python3.10/dist-packages/pyspark/pandas/__init__.py:50: UserWarning: 'PYARROW_IGNORE_TIMEZONE' environment variable was not set. It is required to set this environment variable to '1' in both driver and executor sides if you use pyarrow>=2.0.0. pandas-on-Spark will set it for you but it does not work if there is a Spark context already launched.\n",
            "  warnings.warn(\n"
          ]
        }
      ]
    },
    {
      "cell_type": "code",
      "source": [
        "series=ps.Series([1,2,3,4,5])\n",
        "print(series)"
      ],
      "metadata": {
        "colab": {
          "base_uri": "https://localhost:8080/"
        },
        "id": "gOF7_zNqFi-v",
        "outputId": "4eb35c8f-70b4-4382-d555-e7a3a97fbd0f"
      },
      "execution_count": 19,
      "outputs": [
        {
          "output_type": "stream",
          "name": "stdout",
          "text": [
            "0    1\n",
            "1    2\n",
            "2    3\n",
            "3    4\n",
            "4    5\n",
            "dtype: int64\n"
          ]
        }
      ]
    },
    {
      "cell_type": "code",
      "source": [
        "pandasdf=ps.DataFrame(\n",
        "    {\n",
        "        \"a\":[1,2,3],\n",
        "        \"b\":[4,5,6],\n",
        "        \"c\":[7,8,9],\n",
        "        \"d\":[\"a\",\"b\",\"c\"],\n",
        "    },\n",
        "    index=[1,2,3]\n",
        ")\n",
        "print(pandasdf)\n"
      ],
      "metadata": {
        "colab": {
          "base_uri": "https://localhost:8080/"
        },
        "id": "stV1eqhPFmY-",
        "outputId": "c8bfb6f5-4646-4c09-f8bd-527c5094bd24"
      },
      "execution_count": 20,
      "outputs": [
        {
          "output_type": "stream",
          "name": "stdout",
          "text": [
            "   a  b  c  d\n",
            "1  1  4  7  a\n",
            "2  2  5  8  b\n",
            "3  3  6  9  c\n"
          ]
        }
      ]
    },
    {
      "cell_type": "code",
      "source": [
        "test=ps.DataFrame([\n",
        "    (\"Jack\",\"\",\"Eldridge\",\"36636\",\"M\",90000),\n",
        "    (\"Matthew\",\"J\", \"Munro\",\"28832\",\"M\",45400),\n",
        "    (\"Sheila\",\"Oway\", \"Roberts\",\"12114\",\"F\",64000),\n",
        "    (\"Anne\",\"\", \"Dushane\",\"32192\",\"F\",141000),\n",
        "    (\"Jane\",\"Rebecca\",\"Jones\",\"99482\",\"F\",56000)\n",
        "  ])"
      ],
      "metadata": {
        "id": "mgHjmBslF785"
      },
      "execution_count": 22,
      "outputs": []
    },
    {
      "cell_type": "code",
      "source": [
        "print(test)"
      ],
      "metadata": {
        "colab": {
          "base_uri": "https://localhost:8080/"
        },
        "id": "vyDKrW-aGGus",
        "outputId": "00706dab-7edf-4f04-d926-469deedd5de7"
      },
      "execution_count": 23,
      "outputs": [
        {
          "output_type": "stream",
          "name": "stdout",
          "text": [
            "         0        1         2      3  4       5\n",
            "0     Jack           Eldridge  36636  M   90000\n",
            "1  Matthew        J     Munro  28832  M   45400\n",
            "2   Sheila     Oway   Roberts  12114  F   64000\n",
            "3     Anne            Dushane  32192  F  141000\n",
            "4     Jane  Rebecca     Jones  99482  F   56000\n"
          ]
        }
      ]
    },
    {
      "cell_type": "code",
      "source": [
        "test.dtypes"
      ],
      "metadata": {
        "colab": {
          "base_uri": "https://localhost:8080/",
          "height": 272
        },
        "id": "vUOUPgUHGRS1",
        "outputId": "fbf918a3-093b-4eac-887c-cbcf92e736c9"
      },
      "execution_count": 24,
      "outputs": [
        {
          "output_type": "execute_result",
          "data": {
            "text/plain": [
              "0    object\n",
              "1    object\n",
              "2    object\n",
              "3    object\n",
              "4    object\n",
              "5     int64\n",
              "dtype: object"
            ],
            "text/html": [
              "<div>\n",
              "<style scoped>\n",
              "    .dataframe tbody tr th:only-of-type {\n",
              "        vertical-align: middle;\n",
              "    }\n",
              "\n",
              "    .dataframe tbody tr th {\n",
              "        vertical-align: top;\n",
              "    }\n",
              "\n",
              "    .dataframe thead th {\n",
              "        text-align: right;\n",
              "    }\n",
              "</style>\n",
              "<table border=\"1\" class=\"dataframe\">\n",
              "  <thead>\n",
              "    <tr style=\"text-align: right;\">\n",
              "      <th></th>\n",
              "      <th>0</th>\n",
              "    </tr>\n",
              "  </thead>\n",
              "  <tbody>\n",
              "    <tr>\n",
              "      <th>0</th>\n",
              "      <td>object</td>\n",
              "    </tr>\n",
              "    <tr>\n",
              "      <th>1</th>\n",
              "      <td>object</td>\n",
              "    </tr>\n",
              "    <tr>\n",
              "      <th>2</th>\n",
              "      <td>object</td>\n",
              "    </tr>\n",
              "    <tr>\n",
              "      <th>3</th>\n",
              "      <td>object</td>\n",
              "    </tr>\n",
              "    <tr>\n",
              "      <th>4</th>\n",
              "      <td>object</td>\n",
              "    </tr>\n",
              "    <tr>\n",
              "      <th>5</th>\n",
              "      <td>int64</td>\n",
              "    </tr>\n",
              "  </tbody>\n",
              "</table>\n",
              "</div><br><label><b>dtype:</b> object</label>"
            ]
          },
          "metadata": {},
          "execution_count": 24
        }
      ]
    },
    {
      "cell_type": "code",
      "source": [
        "\n",
        "print(test.to_markdown())\n"
      ],
      "metadata": {
        "colab": {
          "base_uri": "https://localhost:8080/"
        },
        "id": "NQb8YBVkGT4x",
        "outputId": "b77f18e7-916b-4b3b-c928-4952e02cb420"
      },
      "execution_count": 25,
      "outputs": [
        {
          "output_type": "stream",
          "name": "stdout",
          "text": [
            "|    | 0       | 1       | 2        |     3 | 4   |      5 |\n",
            "|---:|:--------|:--------|:---------|------:|:----|-------:|\n",
            "|  0 | Jack    |         | Eldridge | 36636 | M   |  90000 |\n",
            "|  1 | Matthew | J       | Munro    | 28832 | M   |  45400 |\n",
            "|  2 | Sheila  | Oway    | Roberts  | 12114 | F   |  64000 |\n",
            "|  3 | Anne    |         | Dushane  | 32192 | F   | 141000 |\n",
            "|  4 | Jane    | Rebecca | Jones    | 99482 | F   |  56000 |\n"
          ]
        }
      ]
    }
  ]
}