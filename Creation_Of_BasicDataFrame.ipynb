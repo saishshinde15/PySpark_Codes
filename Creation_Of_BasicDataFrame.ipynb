{
  "nbformat": 4,
  "nbformat_minor": 0,
  "metadata": {
    "colab": {
      "provenance": [],
      "authorship_tag": "ABX9TyMn5/jaj1nDNuEoOBbL+YwH",
      "include_colab_link": true
    },
    "kernelspec": {
      "name": "python3",
      "display_name": "Python 3"
    },
    "language_info": {
      "name": "python"
    }
  },
  "cells": [
    {
      "cell_type": "markdown",
      "metadata": {
        "id": "view-in-github",
        "colab_type": "text"
      },
      "source": [
        "<a href=\"https://colab.research.google.com/github/saishshinde15/PySpark_Codes/blob/main/Creation_Of_BasicDataFrame.ipynb\" target=\"_parent\"><img src=\"https://colab.research.google.com/assets/colab-badge.svg\" alt=\"Open In Colab\"/></a>"
      ]
    },
    {
      "cell_type": "code",
      "execution_count": 1,
      "metadata": {
        "colab": {
          "base_uri": "https://localhost:8080/"
        },
        "id": "pjxQurmm8MO7",
        "outputId": "dd028af3-4842-42ef-cd46-a43454d859a0"
      },
      "outputs": [
        {
          "output_type": "stream",
          "name": "stdout",
          "text": [
            "Requirement already satisfied: pyspark in /usr/local/lib/python3.10/dist-packages (3.5.3)\n",
            "Requirement already satisfied: py4j==0.10.9.7 in /usr/local/lib/python3.10/dist-packages (from pyspark) (0.10.9.7)\n"
          ]
        }
      ],
      "source": [
        "pip install pyspark"
      ]
    },
    {
      "cell_type": "code",
      "source": [
        "from pyspark.sql import SparkSession"
      ],
      "metadata": {
        "id": "7SfLnFnx9bC1"
      },
      "execution_count": 8,
      "outputs": []
    },
    {
      "cell_type": "code",
      "source": [
        "spark = SparkSession.builder.appName(\"DataFrameCreation\").getOrCreate()"
      ],
      "metadata": {
        "id": "JHvLAZ5B9cQm"
      },
      "execution_count": 9,
      "outputs": []
    },
    {
      "cell_type": "code",
      "source": [
        "from pyspark.sql.types import StructType,StructField, StringType, IntegerType"
      ],
      "metadata": {
        "id": "Jff6IiUQ8Spz"
      },
      "execution_count": 2,
      "outputs": []
    },
    {
      "cell_type": "code",
      "source": [
        "data2 = [(\"Jack\",\"\",\"Eldridge\",\"36636\",\"M\",90000),\n",
        "    (\"Matthew\",\"J\", \"Munro\",\"28832\",\"M\",45400),\n",
        "    (\"Sheila\",\"Oway\", \"Roberts\",\"12114\",\"F\",64000),\n",
        "    (\"Anne\",\"\", \"Dushane\",\"32192\",\"F\",141000),\n",
        "    (\"Jane\",\"Rebecca\",\"Jones\",\"99482\",\"F\",56000)\n",
        "  ]"
      ],
      "metadata": {
        "id": "Pcd0j2J48b17"
      },
      "execution_count": 3,
      "outputs": []
    },
    {
      "cell_type": "markdown",
      "source": [
        "## Method 1"
      ],
      "metadata": {
        "id": "Bc0c-6gx9_Ff"
      }
    },
    {
      "cell_type": "code",
      "source": [
        "schema = StructType([\n",
        "    StructField(\"firstname\",StringType(),True),\n",
        "    StructField(\"middlename\",StringType(),True),\n",
        "    StructField(\"lastname\",StringType(),True),\n",
        "    StructField(\"id\", StringType(), True),\n",
        "    StructField(\"gender\", StringType(), True),\n",
        "    StructField(\"salary\", IntegerType(), True)\n",
        "  ])"
      ],
      "metadata": {
        "id": "EPRDTh_T8w_8"
      },
      "execution_count": 13,
      "outputs": []
    },
    {
      "cell_type": "code",
      "source": [
        "df = spark.createDataFrame(data=data2,schema=schema)\n",
        "df.printSchema()\n",
        "df.show(truncate=False)"
      ],
      "metadata": {
        "colab": {
          "base_uri": "https://localhost:8080/"
        },
        "id": "fcHwmHLN9Ppy",
        "outputId": "dc0f1e07-9510-4f53-a87a-cf42fd9a994d"
      },
      "execution_count": 14,
      "outputs": [
        {
          "output_type": "stream",
          "name": "stdout",
          "text": [
            "root\n",
            " |-- firstname: string (nullable = true)\n",
            " |-- middlename: string (nullable = true)\n",
            " |-- lastname: string (nullable = true)\n",
            " |-- id: string (nullable = true)\n",
            " |-- gender: string (nullable = true)\n",
            " |-- salary: integer (nullable = true)\n",
            "\n",
            "+---------+----------+--------+-----+------+------+\n",
            "|firstname|middlename|lastname|id   |gender|salary|\n",
            "+---------+----------+--------+-----+------+------+\n",
            "|Jack     |          |Eldridge|36636|M     |90000 |\n",
            "|Matthew  |J         |Munro   |28832|M     |45400 |\n",
            "|Sheila   |Oway      |Roberts |12114|F     |64000 |\n",
            "|Anne     |          |Dushane |32192|F     |141000|\n",
            "|Jane     |Rebecca   |Jones   |99482|F     |56000 |\n",
            "+---------+----------+--------+-----+------+------+\n",
            "\n"
          ]
        }
      ]
    },
    {
      "cell_type": "markdown",
      "source": [
        "## Method 2(using Data Definition Language (DDL))"
      ],
      "metadata": {
        "id": "-vWKqstp-Bqv"
      }
    },
    {
      "cell_type": "code",
      "source": [
        "schema_ddl = \"firstname STRING, middlename STRING, lastname STRING, id STRING, gender STRING, salary INT \"\n",
        "df_with_ddl_schema = spark.createDataFrame(data=data2,schema=schema_ddl)\n",
        "df.printSchema()\n",
        "df.show(truncate=False)\n"
      ],
      "metadata": {
        "colab": {
          "base_uri": "https://localhost:8080/"
        },
        "id": "RahzBRBY9Tr3",
        "outputId": "41b44c75-3d88-4b35-99da-071be57e6060"
      },
      "execution_count": 15,
      "outputs": [
        {
          "output_type": "stream",
          "name": "stdout",
          "text": [
            "root\n",
            " |-- firstname: string (nullable = true)\n",
            " |-- middlename: string (nullable = true)\n",
            " |-- lastname: string (nullable = true)\n",
            " |-- id: string (nullable = true)\n",
            " |-- gender: string (nullable = true)\n",
            " |-- salary: integer (nullable = true)\n",
            "\n",
            "+---------+----------+--------+-----+------+------+\n",
            "|firstname|middlename|lastname|id   |gender|salary|\n",
            "+---------+----------+--------+-----+------+------+\n",
            "|Jack     |          |Eldridge|36636|M     |90000 |\n",
            "|Matthew  |J         |Munro   |28832|M     |45400 |\n",
            "|Sheila   |Oway      |Roberts |12114|F     |64000 |\n",
            "|Anne     |          |Dushane |32192|F     |141000|\n",
            "|Jane     |Rebecca   |Jones   |99482|F     |56000 |\n",
            "+---------+----------+--------+-----+------+------+\n",
            "\n"
          ]
        }
      ]
    },
    {
      "cell_type": "code",
      "source": [],
      "metadata": {
        "id": "Uze-Gbyk-UYf"
      },
      "execution_count": null,
      "outputs": []
    }
  ]
}