{
  "nbformat": 4,
  "nbformat_minor": 0,
  "metadata": {
    "colab": {
      "provenance": [],
      "authorship_tag": "ABX9TyOl6Has4J/+xDeNEISgAdar",
      "include_colab_link": true
    },
    "kernelspec": {
      "name": "python3",
      "display_name": "Python 3"
    },
    "language_info": {
      "name": "python"
    }
  },
  "cells": [
    {
      "cell_type": "markdown",
      "metadata": {
        "id": "view-in-github",
        "colab_type": "text"
      },
      "source": [
        "<a href=\"https://colab.research.google.com/github/saishshinde15/PySpark_Codes/blob/main/Basic_Opertions_DataFrame_Pandas.ipynb\" target=\"_parent\"><img src=\"https://colab.research.google.com/assets/colab-badge.svg\" alt=\"Open In Colab\"/></a>"
      ]
    },
    {
      "cell_type": "code",
      "execution_count": 1,
      "metadata": {
        "id": "yFHwC_CvYiT7",
        "colab": {
          "base_uri": "https://localhost:8080/"
        },
        "outputId": "7e3daa5e-5a86-4bc6-b7d3-3d54248fa68c"
      },
      "outputs": [
        {
          "output_type": "stream",
          "name": "stdout",
          "text": [
            "Requirement already satisfied: pyspark in /usr/local/lib/python3.10/dist-packages (3.5.4)\n",
            "Requirement already satisfied: py4j==0.10.9.7 in /usr/local/lib/python3.10/dist-packages (from pyspark) (0.10.9.7)\n"
          ]
        }
      ],
      "source": [
        "pip install pyspark"
      ]
    },
    {
      "cell_type": "code",
      "source": [
        "from pyspark.sql import SparkSession"
      ],
      "metadata": {
        "id": "ijnx2e_7YtxX"
      },
      "execution_count": 2,
      "outputs": []
    },
    {
      "cell_type": "code",
      "source": [
        "spark = SparkSession.builder.appName(\"Basic_DataFrame_Opertions\").getOrCreate()\n"
      ],
      "metadata": {
        "id": "ngcpKskZYwS3"
      },
      "execution_count": 3,
      "outputs": []
    },
    {
      "cell_type": "code",
      "source": [
        "df=spark.read.csv('/content/property-sales.csv',header=True)"
      ],
      "metadata": {
        "id": "rPIKGN39Y7Sz"
      },
      "execution_count": 6,
      "outputs": []
    },
    {
      "cell_type": "code",
      "source": [
        "# show a printed representation of the DataFrame\n",
        "df.show()"
      ],
      "metadata": {
        "colab": {
          "base_uri": "https://localhost:8080/"
        },
        "id": "YK7P1RuSZWRV",
        "outputId": "a077aa30-5f6c-48fc-dfe3-ffb4153271b4"
      },
      "execution_count": 7,
      "outputs": [
        {
          "output_type": "stream",
          "name": "stdout",
          "text": [
            "+-------------------+--------------+-----------+-------------+-----------------+\n",
            "|           Address |          Type|      City |SalePrice ($)|            Agent|\n",
            "+-------------------+--------------+-----------+-------------+-----------------+\n",
            "|   1 Rowley Street |Detached House|   New York|       745000|Penelope Pullman |\n",
            "|13a lollipop avenue|     Apartment|Los Angeles|       345000|      Jack Smith |\n",
            "|       34 the drive|         House|    Atlanta|       459000|     Sheila Sammi|\n",
            "+-------------------+--------------+-----------+-------------+-----------------+\n",
            "\n"
          ]
        }
      ]
    },
    {
      "cell_type": "code",
      "source": [
        "# interactive view of the DataFrame\n",
        "display(df)"
      ],
      "metadata": {
        "colab": {
          "base_uri": "https://localhost:8080/",
          "height": 34
        },
        "id": "mivS4uhIaGYW",
        "outputId": "d52fd90f-14c1-4a95-9404-a3df2f4d6098"
      },
      "execution_count": 8,
      "outputs": [
        {
          "output_type": "display_data",
          "data": {
            "text/plain": [
              "DataFrame[Address : string, Type: string, City : string, SalePrice ($): string, Agent: string]"
            ]
          },
          "metadata": {}
        }
      ]
    },
    {
      "cell_type": "code",
      "source": [
        "# Show me just the first two rows of my DataFrame\n",
        "display(df.head(2))"
      ],
      "metadata": {
        "colab": {
          "base_uri": "https://localhost:8080/",
          "height": 86
        },
        "id": "Gc1qvSh-aIUk",
        "outputId": "a05ab9ac-1234-4c1c-bdb4-00b99e78d91e"
      },
      "execution_count": 9,
      "outputs": [
        {
          "output_type": "display_data",
          "data": {
            "text/plain": [
              "[Row(Address ='1 Rowley Street ', Type='Detached House', City ='New York', SalePrice ($)='745000', Agent='Penelope Pullman '),\n",
              " Row(Address ='13a lollipop avenue', Type='Apartment', City ='Los Angeles', SalePrice ($)='345000', Agent='Jack Smith ')]"
            ]
          },
          "metadata": {}
        }
      ]
    },
    {
      "cell_type": "markdown",
      "source": [
        "## Schemas"
      ],
      "metadata": {
        "id": "nhVDhdWiaOg1"
      }
    },
    {
      "cell_type": "code",
      "source": [
        "df.printSchema()"
      ],
      "metadata": {
        "colab": {
          "base_uri": "https://localhost:8080/"
        },
        "id": "6LcQYmTAaKsd",
        "outputId": "62f6a4b1-5d50-448c-8ffb-401d193f8381"
      },
      "execution_count": 10,
      "outputs": [
        {
          "output_type": "stream",
          "name": "stdout",
          "text": [
            "root\n",
            " |-- Address : string (nullable = true)\n",
            " |-- Type: string (nullable = true)\n",
            " |-- City : string (nullable = true)\n",
            " |-- SalePrice ($): string (nullable = true)\n",
            " |-- Agent: string (nullable = true)\n",
            "\n"
          ]
        }
      ]
    },
    {
      "cell_type": "code",
      "source": [
        "# get just the data types (not full schema)\n",
        "df.dtypes"
      ],
      "metadata": {
        "colab": {
          "base_uri": "https://localhost:8080/"
        },
        "id": "wxMhAXtAaTyz",
        "outputId": "976b1a92-c850-4ec4-cc7f-63662c961aa6"
      },
      "execution_count": 11,
      "outputs": [
        {
          "output_type": "execute_result",
          "data": {
            "text/plain": [
              "[('Address ', 'string'),\n",
              " ('Type', 'string'),\n",
              " ('City ', 'string'),\n",
              " ('SalePrice ($)', 'string'),\n",
              " ('Agent', 'string')]"
            ]
          },
          "metadata": {},
          "execution_count": 11
        }
      ]
    },
    {
      "cell_type": "code",
      "source": [
        "# the actual schema can be accessed using df.schema\n",
        "df.schema"
      ],
      "metadata": {
        "colab": {
          "base_uri": "https://localhost:8080/"
        },
        "id": "qbdgqyxTaXn1",
        "outputId": "d32c7307-2153-4f74-b1df-c1a4f982d569"
      },
      "execution_count": 12,
      "outputs": [
        {
          "output_type": "execute_result",
          "data": {
            "text/plain": [
              "StructType([StructField('Address ', StringType(), True), StructField('Type', StringType(), True), StructField('City ', StringType(), True), StructField('SalePrice ($)', StringType(), True), StructField('Agent', StringType(), True)])"
            ]
          },
          "metadata": {},
          "execution_count": 12
        }
      ]
    },
    {
      "cell_type": "code",
      "source": [
        "# this is sometimes useful as we might have to do something like this\n",
        "source_schema = df.schema\n",
        "\n",
        "# this saves us having to explicitly write out our the schema for a new df, if we have one that already exists.\n",
        "new_df_with_existing_schema = spark.read.csv( schema=source_schema,path='/content/property-sales.csv',header=True)"
      ],
      "metadata": {
        "id": "hWTET07UaZ2J"
      },
      "execution_count": 14,
      "outputs": []
    },
    {
      "cell_type": "code",
      "source": [
        "new_df_with_existing_schema.show()"
      ],
      "metadata": {
        "colab": {
          "base_uri": "https://localhost:8080/"
        },
        "id": "QsWNzi9NbK3m",
        "outputId": "2314999d-96c7-496b-801b-0b0a92f6e4f0"
      },
      "execution_count": 15,
      "outputs": [
        {
          "output_type": "stream",
          "name": "stdout",
          "text": [
            "+-------------------+--------------+-----------+-------------+-----------------+\n",
            "|           Address |          Type|      City |SalePrice ($)|            Agent|\n",
            "+-------------------+--------------+-----------+-------------+-----------------+\n",
            "|   1 Rowley Street |Detached House|   New York|       745000|Penelope Pullman |\n",
            "|13a lollipop avenue|     Apartment|Los Angeles|       345000|      Jack Smith |\n",
            "|       34 the drive|         House|    Atlanta|       459000|     Sheila Sammi|\n",
            "+-------------------+--------------+-----------+-------------+-----------------+\n",
            "\n"
          ]
        }
      ]
    },
    {
      "cell_type": "markdown",
      "source": [
        "## Columns"
      ],
      "metadata": {
        "id": "JM1AGY5LbZV4"
      }
    },
    {
      "cell_type": "code",
      "source": [
        "df.columns"
      ],
      "metadata": {
        "colab": {
          "base_uri": "https://localhost:8080/"
        },
        "id": "PeoT5AZsbTr_",
        "outputId": "8c302db6-2dee-4593-e62e-ef6cbeee3393"
      },
      "execution_count": 16,
      "outputs": [
        {
          "output_type": "execute_result",
          "data": {
            "text/plain": [
              "['Address ', 'Type', 'City ', 'SalePrice ($)', 'Agent']"
            ]
          },
          "metadata": {},
          "execution_count": 16
        }
      ]
    },
    {
      "cell_type": "code",
      "source": [
        "#selecting just a single column\n",
        "df.select('Type').show()"
      ],
      "metadata": {
        "colab": {
          "base_uri": "https://localhost:8080/"
        },
        "id": "P7Zh8q50bcR-",
        "outputId": "d04fa025-9e95-4fe5-dab1-221ef22e6045"
      },
      "execution_count": 19,
      "outputs": [
        {
          "output_type": "stream",
          "name": "stdout",
          "text": [
            "+--------------+\n",
            "|          Type|\n",
            "+--------------+\n",
            "|Detached House|\n",
            "|     Apartment|\n",
            "|         House|\n",
            "+--------------+\n",
            "\n"
          ]
        }
      ]
    },
    {
      "cell_type": "code",
      "source": [
        "#renaming existing columns\n",
        "df = df.withColumnRenamed('Address ', 'Address')\n",
        "df.select('Address').show()"
      ],
      "metadata": {
        "colab": {
          "base_uri": "https://localhost:8080/"
        },
        "id": "91mx48-9bfo2",
        "outputId": "70039f6b-12cd-4765-c389-dee169441ab9"
      },
      "execution_count": 20,
      "outputs": [
        {
          "output_type": "stream",
          "name": "stdout",
          "text": [
            "+-------------------+\n",
            "|            Address|\n",
            "+-------------------+\n",
            "|   1 Rowley Street |\n",
            "|13a lollipop avenue|\n",
            "|       34 the drive|\n",
            "+-------------------+\n",
            "\n"
          ]
        }
      ]
    },
    {
      "cell_type": "code",
      "source": [
        "# selecting a few columns\n",
        "df.select(['Address','Type']).show()"
      ],
      "metadata": {
        "colab": {
          "base_uri": "https://localhost:8080/"
        },
        "id": "qeDMytnwcLkQ",
        "outputId": "34d9e647-17a6-48ac-f21d-f66c727d9dec"
      },
      "execution_count": 21,
      "outputs": [
        {
          "output_type": "stream",
          "name": "stdout",
          "text": [
            "+-------------------+--------------+\n",
            "|            Address|          Type|\n",
            "+-------------------+--------------+\n",
            "|   1 Rowley Street |Detached House|\n",
            "|13a lollipop avenue|     Apartment|\n",
            "|       34 the drive|         House|\n",
            "+-------------------+--------------+\n",
            "\n"
          ]
        }
      ]
    },
    {
      "cell_type": "code",
      "source": [
        "# To add new column\n",
        "df = df.withColumn('2x_SalePrice', df['SalePrice ($)'] * 2)\n",
        "df.show()\n"
      ],
      "metadata": {
        "colab": {
          "base_uri": "https://localhost:8080/"
        },
        "id": "hD1JcuhzcPGX",
        "outputId": "b880c0f3-bd52-47aa-f738-d5166c1a514c"
      },
      "execution_count": 22,
      "outputs": [
        {
          "output_type": "stream",
          "name": "stdout",
          "text": [
            "+-------------------+--------------+-----------+-------------+-----------------+------------+\n",
            "|            Address|          Type|      City |SalePrice ($)|            Agent|2x_SalePrice|\n",
            "+-------------------+--------------+-----------+-------------+-----------------+------------+\n",
            "|   1 Rowley Street |Detached House|   New York|       745000|Penelope Pullman |   1490000.0|\n",
            "|13a lollipop avenue|     Apartment|Los Angeles|       345000|      Jack Smith |    690000.0|\n",
            "|       34 the drive|         House|    Atlanta|       459000|     Sheila Sammi|    918000.0|\n",
            "+-------------------+--------------+-----------+-------------+-----------------+------------+\n",
            "\n"
          ]
        }
      ]
    },
    {
      "cell_type": "code",
      "source": [
        "# To Remove Column\n",
        "df = df.drop('2x_SalePrice')\n",
        "df.show()"
      ],
      "metadata": {
        "colab": {
          "base_uri": "https://localhost:8080/"
        },
        "id": "Yg9sgFUjcWD1",
        "outputId": "98f1e225-70a5-43dc-97d0-c56d0c857209"
      },
      "execution_count": 23,
      "outputs": [
        {
          "output_type": "stream",
          "name": "stdout",
          "text": [
            "+-------------------+--------------+-----------+-------------+-----------------+\n",
            "|            Address|          Type|      City |SalePrice ($)|            Agent|\n",
            "+-------------------+--------------+-----------+-------------+-----------------+\n",
            "|   1 Rowley Street |Detached House|   New York|       745000|Penelope Pullman |\n",
            "|13a lollipop avenue|     Apartment|Los Angeles|       345000|      Jack Smith |\n",
            "|       34 the drive|         House|    Atlanta|       459000|     Sheila Sammi|\n",
            "+-------------------+--------------+-----------+-------------+-----------------+\n",
            "\n"
          ]
        }
      ]
    },
    {
      "cell_type": "code",
      "source": [
        "# Renaming Multiple Columns\n",
        "df_new = df.selectExpr(\"Address as ADD\",\"'SalePrice ($)' as SalesPrice_USD\",\"'City ' as MyCity\")\n",
        "df_new.show()"
      ],
      "metadata": {
        "colab": {
          "base_uri": "https://localhost:8080/"
        },
        "id": "i63R8371c32P",
        "outputId": "9a88298a-1337-4499-be36-5a31d6522504"
      },
      "execution_count": 24,
      "outputs": [
        {
          "output_type": "stream",
          "name": "stdout",
          "text": [
            "+-------------------+--------------+------+\n",
            "|                ADD|SalesPrice_USD|MyCity|\n",
            "+-------------------+--------------+------+\n",
            "|   1 Rowley Street | SalePrice ($)| City |\n",
            "|13a lollipop avenue| SalePrice ($)| City |\n",
            "|       34 the drive| SalePrice ($)| City |\n",
            "+-------------------+--------------+------+\n",
            "\n"
          ]
        }
      ]
    },
    {
      "cell_type": "markdown",
      "source": [
        "## Using Pandas"
      ],
      "metadata": {
        "id": "Txuqh1O6dJDq"
      }
    },
    {
      "cell_type": "code",
      "source": [
        "import pandas as pd\n",
        "import numpy as np\n",
        "import pyspark.pandas as ps"
      ],
      "metadata": {
        "colab": {
          "base_uri": "https://localhost:8080/"
        },
        "id": "lHXrXbSjc_KP",
        "outputId": "ce12b203-29fc-41dd-f681-4f827d15b6ac"
      },
      "execution_count": 25,
      "outputs": [
        {
          "output_type": "stream",
          "name": "stderr",
          "text": [
            "/usr/local/lib/python3.10/dist-packages/pyspark/pandas/__init__.py:50: UserWarning: 'PYARROW_IGNORE_TIMEZONE' environment variable was not set. It is required to set this environment variable to '1' in both driver and executor sides if you use pyarrow>=2.0.0. pandas-on-Spark will set it for you but it does not work if there is a Spark context already launched.\n",
            "  warnings.warn(\n"
          ]
        }
      ]
    },
    {
      "cell_type": "code",
      "source": [
        "df2=ps.read_csv('/content/property-sales.csv')"
      ],
      "metadata": {
        "colab": {
          "base_uri": "https://localhost:8080/"
        },
        "id": "adjJmoQyeQIs",
        "outputId": "b8a01b00-c23c-4123-fd4d-8c0e1fe175e4"
      },
      "execution_count": 26,
      "outputs": [
        {
          "output_type": "stream",
          "name": "stderr",
          "text": [
            "/usr/local/lib/python3.10/dist-packages/pyspark/pandas/utils.py:1016: PandasAPIOnSparkAdviceWarning: If `index_col` is not specified for `read_csv`, the default index is attached which can cause additional overhead.\n",
            "  warnings.warn(message, PandasAPIOnSparkAdviceWarning)\n"
          ]
        }
      ]
    },
    {
      "cell_type": "code",
      "source": [
        "df2"
      ],
      "metadata": {
        "colab": {
          "base_uri": "https://localhost:8080/",
          "height": 143
        },
        "id": "pU_fA5PYeTdl",
        "outputId": "c46d459b-befa-4186-c0fb-2867ad5fd920"
      },
      "execution_count": 27,
      "outputs": [
        {
          "output_type": "execute_result",
          "data": {
            "text/plain": [
              "              Address             Type        City   SalePrice ($)              Agent\n",
              "0     1 Rowley Street   Detached House     New York         745000  Penelope Pullman \n",
              "1  13a lollipop avenue       Apartment  Los Angeles         345000        Jack Smith \n",
              "2         34 the drive           House      Atlanta         459000       Sheila Sammi"
            ],
            "text/html": [
              "<div>\n",
              "<style scoped>\n",
              "    .dataframe tbody tr th:only-of-type {\n",
              "        vertical-align: middle;\n",
              "    }\n",
              "\n",
              "    .dataframe tbody tr th {\n",
              "        vertical-align: top;\n",
              "    }\n",
              "\n",
              "    .dataframe thead th {\n",
              "        text-align: right;\n",
              "    }\n",
              "</style>\n",
              "<table border=\"1\" class=\"dataframe\">\n",
              "  <thead>\n",
              "    <tr style=\"text-align: right;\">\n",
              "      <th></th>\n",
              "      <th>Address</th>\n",
              "      <th>Type</th>\n",
              "      <th>City</th>\n",
              "      <th>SalePrice ($)</th>\n",
              "      <th>Agent</th>\n",
              "    </tr>\n",
              "  </thead>\n",
              "  <tbody>\n",
              "    <tr>\n",
              "      <th>0</th>\n",
              "      <td>1 Rowley Street</td>\n",
              "      <td>Detached House</td>\n",
              "      <td>New York</td>\n",
              "      <td>745000</td>\n",
              "      <td>Penelope Pullman</td>\n",
              "    </tr>\n",
              "    <tr>\n",
              "      <th>1</th>\n",
              "      <td>13a lollipop avenue</td>\n",
              "      <td>Apartment</td>\n",
              "      <td>Los Angeles</td>\n",
              "      <td>345000</td>\n",
              "      <td>Jack Smith</td>\n",
              "    </tr>\n",
              "    <tr>\n",
              "      <th>2</th>\n",
              "      <td>34 the drive</td>\n",
              "      <td>House</td>\n",
              "      <td>Atlanta</td>\n",
              "      <td>459000</td>\n",
              "      <td>Sheila Sammi</td>\n",
              "    </tr>\n",
              "  </tbody>\n",
              "</table>\n",
              "</div>"
            ]
          },
          "metadata": {},
          "execution_count": 27
        }
      ]
    },
    {
      "cell_type": "code",
      "source": [
        "#Selecting a column\n",
        "df_column=df2['SalePrice ($)']\n",
        "df_column"
      ],
      "metadata": {
        "colab": {
          "base_uri": "https://localhost:8080/"
        },
        "id": "JCw0o2vHeUL8",
        "outputId": "d4f3b7cb-f36c-49b1-af04-8963faecb77f"
      },
      "execution_count": 29,
      "outputs": [
        {
          "output_type": "execute_result",
          "data": {
            "text/plain": [
              "0    745000\n",
              "1    345000\n",
              "2    459000\n",
              "Name: SalePrice ($), dtype: int32"
            ]
          },
          "metadata": {},
          "execution_count": 29
        }
      ]
    },
    {
      "cell_type": "code",
      "source": [
        "# Renaming Columns\n",
        "df_rename=df2.rename(columns={'Address ':'Address1'})\n",
        "df_rename"
      ],
      "metadata": {
        "colab": {
          "base_uri": "https://localhost:8080/",
          "height": 143
        },
        "id": "H4iG0HnpeaVH",
        "outputId": "5b604420-4e44-4db1-ad99-1ec1ed028e47"
      },
      "execution_count": 30,
      "outputs": [
        {
          "output_type": "execute_result",
          "data": {
            "text/plain": [
              "              Address1            Type        City   SalePrice ($)              Agent\n",
              "0     1 Rowley Street   Detached House     New York         745000  Penelope Pullman \n",
              "1  13a lollipop avenue       Apartment  Los Angeles         345000        Jack Smith \n",
              "2         34 the drive           House      Atlanta         459000       Sheila Sammi"
            ],
            "text/html": [
              "<div>\n",
              "<style scoped>\n",
              "    .dataframe tbody tr th:only-of-type {\n",
              "        vertical-align: middle;\n",
              "    }\n",
              "\n",
              "    .dataframe tbody tr th {\n",
              "        vertical-align: top;\n",
              "    }\n",
              "\n",
              "    .dataframe thead th {\n",
              "        text-align: right;\n",
              "    }\n",
              "</style>\n",
              "<table border=\"1\" class=\"dataframe\">\n",
              "  <thead>\n",
              "    <tr style=\"text-align: right;\">\n",
              "      <th></th>\n",
              "      <th>Address1</th>\n",
              "      <th>Type</th>\n",
              "      <th>City</th>\n",
              "      <th>SalePrice ($)</th>\n",
              "      <th>Agent</th>\n",
              "    </tr>\n",
              "  </thead>\n",
              "  <tbody>\n",
              "    <tr>\n",
              "      <th>0</th>\n",
              "      <td>1 Rowley Street</td>\n",
              "      <td>Detached House</td>\n",
              "      <td>New York</td>\n",
              "      <td>745000</td>\n",
              "      <td>Penelope Pullman</td>\n",
              "    </tr>\n",
              "    <tr>\n",
              "      <th>1</th>\n",
              "      <td>13a lollipop avenue</td>\n",
              "      <td>Apartment</td>\n",
              "      <td>Los Angeles</td>\n",
              "      <td>345000</td>\n",
              "      <td>Jack Smith</td>\n",
              "    </tr>\n",
              "    <tr>\n",
              "      <th>2</th>\n",
              "      <td>34 the drive</td>\n",
              "      <td>House</td>\n",
              "      <td>Atlanta</td>\n",
              "      <td>459000</td>\n",
              "      <td>Sheila Sammi</td>\n",
              "    </tr>\n",
              "  </tbody>\n",
              "</table>\n",
              "</div>"
            ]
          },
          "metadata": {},
          "execution_count": 30
        }
      ]
    },
    {
      "cell_type": "code",
      "source": [
        "# Droping Columns\n",
        "df_drop=df2.drop(columns=['Address '])\n",
        "df_drop"
      ],
      "metadata": {
        "colab": {
          "base_uri": "https://localhost:8080/",
          "height": 143
        },
        "id": "Ku3OWa-OeszD",
        "outputId": "8c9927c9-63b9-4f13-b080-00a52fa9bbae"
      },
      "execution_count": 31,
      "outputs": [
        {
          "output_type": "execute_result",
          "data": {
            "text/plain": [
              "             Type        City   SalePrice ($)              Agent\n",
              "0  Detached House     New York         745000  Penelope Pullman \n",
              "1       Apartment  Los Angeles         345000        Jack Smith \n",
              "2           House      Atlanta         459000       Sheila Sammi"
            ],
            "text/html": [
              "<div>\n",
              "<style scoped>\n",
              "    .dataframe tbody tr th:only-of-type {\n",
              "        vertical-align: middle;\n",
              "    }\n",
              "\n",
              "    .dataframe tbody tr th {\n",
              "        vertical-align: top;\n",
              "    }\n",
              "\n",
              "    .dataframe thead th {\n",
              "        text-align: right;\n",
              "    }\n",
              "</style>\n",
              "<table border=\"1\" class=\"dataframe\">\n",
              "  <thead>\n",
              "    <tr style=\"text-align: right;\">\n",
              "      <th></th>\n",
              "      <th>Type</th>\n",
              "      <th>City</th>\n",
              "      <th>SalePrice ($)</th>\n",
              "      <th>Agent</th>\n",
              "    </tr>\n",
              "  </thead>\n",
              "  <tbody>\n",
              "    <tr>\n",
              "      <th>0</th>\n",
              "      <td>Detached House</td>\n",
              "      <td>New York</td>\n",
              "      <td>745000</td>\n",
              "      <td>Penelope Pullman</td>\n",
              "    </tr>\n",
              "    <tr>\n",
              "      <th>1</th>\n",
              "      <td>Apartment</td>\n",
              "      <td>Los Angeles</td>\n",
              "      <td>345000</td>\n",
              "      <td>Jack Smith</td>\n",
              "    </tr>\n",
              "    <tr>\n",
              "      <th>2</th>\n",
              "      <td>House</td>\n",
              "      <td>Atlanta</td>\n",
              "      <td>459000</td>\n",
              "      <td>Sheila Sammi</td>\n",
              "    </tr>\n",
              "  </tbody>\n",
              "</table>\n",
              "</div>"
            ]
          },
          "metadata": {},
          "execution_count": 31
        }
      ]
    },
    {
      "cell_type": "code",
      "source": [],
      "metadata": {
        "id": "hECHMuCGe0Yc"
      },
      "execution_count": null,
      "outputs": []
    }
  ]
}