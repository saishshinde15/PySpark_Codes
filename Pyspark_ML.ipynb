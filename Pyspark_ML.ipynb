{
  "nbformat": 4,
  "nbformat_minor": 0,
  "metadata": {
    "colab": {
      "provenance": [],
      "authorship_tag": "ABX9TyP+7PM9HuzLD0MVeqYqZaUI",
      "include_colab_link": true
    },
    "kernelspec": {
      "name": "python3",
      "display_name": "Python 3"
    },
    "language_info": {
      "name": "python"
    }
  },
  "cells": [
    {
      "cell_type": "markdown",
      "metadata": {
        "id": "view-in-github",
        "colab_type": "text"
      },
      "source": [
        "<a href=\"https://colab.research.google.com/github/saishshinde15/PySpark_Codes/blob/main/Pyspark_ML.ipynb\" target=\"_parent\"><img src=\"https://colab.research.google.com/assets/colab-badge.svg\" alt=\"Open In Colab\"/></a>"
      ]
    },
    {
      "cell_type": "code",
      "execution_count": 1,
      "metadata": {
        "colab": {
          "base_uri": "https://localhost:8080/"
        },
        "id": "V_sZVuDnL3lt",
        "outputId": "6ae58759-6204-4f67-81ab-6d14487b9149"
      },
      "outputs": [
        {
          "output_type": "stream",
          "name": "stdout",
          "text": [
            "Requirement already satisfied: pyspark in /usr/local/lib/python3.10/dist-packages (3.5.3)\n",
            "Requirement already satisfied: py4j==0.10.9.7 in /usr/local/lib/python3.10/dist-packages (from pyspark) (0.10.9.7)\n"
          ]
        }
      ],
      "source": [
        "pip install pyspark"
      ]
    },
    {
      "cell_type": "code",
      "source": [
        "from pyspark.sql import SparkSession\n",
        "from pyspark.sql import SparkSession\n",
        "spark = SparkSession.builder.appName(\"Machine_Learning\").getOrCreate()"
      ],
      "metadata": {
        "id": "jGp-TdRFL9Pu"
      },
      "execution_count": 2,
      "outputs": []
    },
    {
      "cell_type": "code",
      "source": [
        "df=spark.read.csv('/content/insurance.csv',header=True,inferSchema=True)"
      ],
      "metadata": {
        "id": "7dAFD3GQMl7w"
      },
      "execution_count": 12,
      "outputs": []
    },
    {
      "cell_type": "code",
      "source": [
        "df.show()"
      ],
      "metadata": {
        "colab": {
          "base_uri": "https://localhost:8080/"
        },
        "id": "cYMshiu-N-Ht",
        "outputId": "656c2005-a165-4d50-ca74-b49019f360da"
      },
      "execution_count": 13,
      "outputs": [
        {
          "output_type": "stream",
          "name": "stdout",
          "text": [
            "+---+------+----+--------+------+---------+--------+\n",
            "|age|   sex| bmi|children|smoker|   region|expenses|\n",
            "+---+------+----+--------+------+---------+--------+\n",
            "| 19|female|27.9|       0|   yes|southwest|16884.92|\n",
            "| 18|  male|33.8|       1|    no|southeast| 1725.55|\n",
            "| 28|  male|33.0|       3|    no|southeast| 4449.46|\n",
            "| 33|  male|22.7|       0|    no|northwest|21984.47|\n",
            "| 32|  male|28.9|       0|    no|northwest| 3866.86|\n",
            "| 31|female|25.7|       0|    no|southeast| 3756.62|\n",
            "| 46|female|33.4|       1|    no|southeast| 8240.59|\n",
            "| 37|female|27.7|       3|    no|northwest| 7281.51|\n",
            "| 37|  male|29.8|       2|    no|northeast| 6406.41|\n",
            "| 60|female|25.8|       0|    no|northwest|28923.14|\n",
            "| 25|  male|26.2|       0|    no|northeast| 2721.32|\n",
            "| 62|female|26.3|       0|   yes|southeast|27808.73|\n",
            "| 23|  male|34.4|       0|    no|southwest| 1826.84|\n",
            "| 56|female|39.8|       0|    no|southeast|11090.72|\n",
            "| 27|  male|42.1|       0|   yes|southeast|39611.76|\n",
            "| 19|  male|24.6|       1|    no|southwest| 1837.24|\n",
            "| 52|female|30.8|       1|    no|northeast|10797.34|\n",
            "| 23|  male|23.8|       0|    no|northeast| 2395.17|\n",
            "| 56|  male|40.3|       0|    no|southwest|10602.39|\n",
            "| 30|  male|35.3|       0|   yes|southwest|36837.47|\n",
            "+---+------+----+--------+------+---------+--------+\n",
            "only showing top 20 rows\n",
            "\n"
          ]
        }
      ]
    },
    {
      "cell_type": "code",
      "source": [
        "df.printSchema()"
      ],
      "metadata": {
        "colab": {
          "base_uri": "https://localhost:8080/"
        },
        "id": "SukqIIejOJ9r",
        "outputId": "492ded34-6dbd-4754-976b-e1501df90e89"
      },
      "execution_count": 14,
      "outputs": [
        {
          "output_type": "stream",
          "name": "stdout",
          "text": [
            "root\n",
            " |-- age: integer (nullable = true)\n",
            " |-- sex: string (nullable = true)\n",
            " |-- bmi: double (nullable = true)\n",
            " |-- children: integer (nullable = true)\n",
            " |-- smoker: string (nullable = true)\n",
            " |-- region: string (nullable = true)\n",
            " |-- expenses: double (nullable = true)\n",
            "\n"
          ]
        }
      ]
    },
    {
      "cell_type": "code",
      "source": [
        "df.describe().show()"
      ],
      "metadata": {
        "colab": {
          "base_uri": "https://localhost:8080/"
        },
        "id": "lEvh0C4QOS7q",
        "outputId": "e47eb520-668b-4d55-dae7-e3bc3aa1a74f"
      },
      "execution_count": 15,
      "outputs": [
        {
          "output_type": "stream",
          "name": "stdout",
          "text": [
            "+-------+------------------+------+------------------+-----------------+------+---------+------------------+\n",
            "|summary|               age|   sex|               bmi|         children|smoker|   region|          expenses|\n",
            "+-------+------------------+------+------------------+-----------------+------+---------+------------------+\n",
            "|  count|              1338|  1338|              1338|             1338|  1338|     1338|              1338|\n",
            "|   mean| 39.20702541106129|  NULL|30.665470852017993|  1.0949177877429|  NULL|     NULL|13270.422414050803|\n",
            "| stddev|14.049960379216147|  NULL|  6.09838219000336|1.205492739781914|  NULL|     NULL|12110.011239706473|\n",
            "|    min|                18|female|              16.0|                0|    no|northeast|           1121.87|\n",
            "|    max|                64|  male|              53.1|                5|   yes|southwest|          63770.43|\n",
            "+-------+------------------+------+------------------+-----------------+------+---------+------------------+\n",
            "\n"
          ]
        }
      ]
    },
    {
      "cell_type": "code",
      "source": [
        "from pyspark.sql.functions import isnan, count, when, col #to calculte the null values in the dataframe\n",
        "df.select([count(when(col(c).isNull(), c)).alias(c) for c in df.columns]).show()\n"
      ],
      "metadata": {
        "colab": {
          "base_uri": "https://localhost:8080/"
        },
        "id": "k7DlQ3ALPVb5",
        "outputId": "f65894c1-7634-49dc-8bba-fa43e44c988b"
      },
      "execution_count": 16,
      "outputs": [
        {
          "output_type": "stream",
          "name": "stdout",
          "text": [
            "+---+---+---+--------+------+------+--------+\n",
            "|age|sex|bmi|children|smoker|region|expenses|\n",
            "+---+---+---+--------+------+------+--------+\n",
            "|  0|  0|  0|       0|     0|     0|       0|\n",
            "+---+---+---+--------+------+------+--------+\n",
            "\n"
          ]
        }
      ]
    },
    {
      "cell_type": "code",
      "source": [
        "from pyspark.ml.feature import StringIndexer"
      ],
      "metadata": {
        "id": "fdQyazW3QLHn"
      },
      "execution_count": 17,
      "outputs": []
    },
    {
      "cell_type": "code",
      "source": [
        "indexer=StringIndexer(inputCol='sex',outputCol='sex_new')\n",
        "indexed=indexer.fit(df).transform(df)"
      ],
      "metadata": {
        "id": "ShqEclVyQqK6"
      },
      "execution_count": 18,
      "outputs": []
    },
    {
      "cell_type": "code",
      "source": [
        "indexer=StringIndexer(inputCol='smoker',outputCol='smoker_new')\n",
        "indexed=indexer.fit(indexed).transform(indexed)"
      ],
      "metadata": {
        "id": "ZYl2p0UDQzez"
      },
      "execution_count": 19,
      "outputs": []
    },
    {
      "cell_type": "code",
      "source": [
        "indexer=StringIndexer(inputCol='region',outputCol='region_new')\n",
        "indexed=indexer.fit(indexed).transform(indexed)"
      ],
      "metadata": {
        "id": "xcVKuOpvQ5KH"
      },
      "execution_count": 20,
      "outputs": []
    },
    {
      "cell_type": "code",
      "source": [
        "indexed.show()"
      ],
      "metadata": {
        "colab": {
          "base_uri": "https://localhost:8080/"
        },
        "id": "EEiJlK4GQ9o1",
        "outputId": "3cbe2ed0-f3a2-47f2-f96d-99247e5942cb"
      },
      "execution_count": 22,
      "outputs": [
        {
          "output_type": "stream",
          "name": "stdout",
          "text": [
            "+---+------+----+--------+------+---------+--------+-------+----------+----------+\n",
            "|age|   sex| bmi|children|smoker|   region|expenses|sex_new|smoker_new|region_new|\n",
            "+---+------+----+--------+------+---------+--------+-------+----------+----------+\n",
            "| 19|female|27.9|       0|   yes|southwest|16884.92|    1.0|       1.0|       2.0|\n",
            "| 18|  male|33.8|       1|    no|southeast| 1725.55|    0.0|       0.0|       0.0|\n",
            "| 28|  male|33.0|       3|    no|southeast| 4449.46|    0.0|       0.0|       0.0|\n",
            "| 33|  male|22.7|       0|    no|northwest|21984.47|    0.0|       0.0|       1.0|\n",
            "| 32|  male|28.9|       0|    no|northwest| 3866.86|    0.0|       0.0|       1.0|\n",
            "| 31|female|25.7|       0|    no|southeast| 3756.62|    1.0|       0.0|       0.0|\n",
            "| 46|female|33.4|       1|    no|southeast| 8240.59|    1.0|       0.0|       0.0|\n",
            "| 37|female|27.7|       3|    no|northwest| 7281.51|    1.0|       0.0|       1.0|\n",
            "| 37|  male|29.8|       2|    no|northeast| 6406.41|    0.0|       0.0|       3.0|\n",
            "| 60|female|25.8|       0|    no|northwest|28923.14|    1.0|       0.0|       1.0|\n",
            "| 25|  male|26.2|       0|    no|northeast| 2721.32|    0.0|       0.0|       3.0|\n",
            "| 62|female|26.3|       0|   yes|southeast|27808.73|    1.0|       1.0|       0.0|\n",
            "| 23|  male|34.4|       0|    no|southwest| 1826.84|    0.0|       0.0|       2.0|\n",
            "| 56|female|39.8|       0|    no|southeast|11090.72|    1.0|       0.0|       0.0|\n",
            "| 27|  male|42.1|       0|   yes|southeast|39611.76|    0.0|       1.0|       0.0|\n",
            "| 19|  male|24.6|       1|    no|southwest| 1837.24|    0.0|       0.0|       2.0|\n",
            "| 52|female|30.8|       1|    no|northeast|10797.34|    1.0|       0.0|       3.0|\n",
            "| 23|  male|23.8|       0|    no|northeast| 2395.17|    0.0|       0.0|       3.0|\n",
            "| 56|  male|40.3|       0|    no|southwest|10602.39|    0.0|       0.0|       2.0|\n",
            "| 30|  male|35.3|       0|   yes|southwest|36837.47|    0.0|       1.0|       2.0|\n",
            "+---+------+----+--------+------+---------+--------+-------+----------+----------+\n",
            "only showing top 20 rows\n",
            "\n"
          ]
        }
      ]
    },
    {
      "cell_type": "code",
      "source": [
        " from pyspark.ml.linalg import Vector\n",
        " from pyspark.ml.feature import VectorAssembler"
      ],
      "metadata": {
        "id": "2S4o0MDFQ_Aj"
      },
      "execution_count": 23,
      "outputs": []
    },
    {
      "cell_type": "code",
      "source": [
        "assembler= VectorAssembler(inputCols=['age','bmi','children','sex_new','smoker_new','region_new'],outputCol='features')"
      ],
      "metadata": {
        "id": "nGQ0DXUoR7eB"
      },
      "execution_count": 24,
      "outputs": []
    },
    {
      "cell_type": "code",
      "source": [
        "assembler"
      ],
      "metadata": {
        "colab": {
          "base_uri": "https://localhost:8080/"
        },
        "id": "tCJNqP48SH24",
        "outputId": "c8287f93-efc1-43e5-f5e6-6e1d3d045994"
      },
      "execution_count": 25,
      "outputs": [
        {
          "output_type": "execute_result",
          "data": {
            "text/plain": [
              "VectorAssembler_04109e226069"
            ]
          },
          "metadata": {},
          "execution_count": 25
        }
      ]
    },
    {
      "cell_type": "code",
      "source": [
        "output = assembler.transform(indexed)\n",
        "output.show()"
      ],
      "metadata": {
        "colab": {
          "base_uri": "https://localhost:8080/"
        },
        "id": "Cqznrf9pSNKe",
        "outputId": "28e84a58-9c07-4531-ae45-3f1746d3167e"
      },
      "execution_count": 28,
      "outputs": [
        {
          "output_type": "stream",
          "name": "stdout",
          "text": [
            "+---+------+----+--------+------+---------+--------+-------+----------+----------+--------------------+\n",
            "|age|   sex| bmi|children|smoker|   region|expenses|sex_new|smoker_new|region_new|            features|\n",
            "+---+------+----+--------+------+---------+--------+-------+----------+----------+--------------------+\n",
            "| 19|female|27.9|       0|   yes|southwest|16884.92|    1.0|       1.0|       2.0|[19.0,27.9,0.0,1....|\n",
            "| 18|  male|33.8|       1|    no|southeast| 1725.55|    0.0|       0.0|       0.0|[18.0,33.8,1.0,0....|\n",
            "| 28|  male|33.0|       3|    no|southeast| 4449.46|    0.0|       0.0|       0.0|[28.0,33.0,3.0,0....|\n",
            "| 33|  male|22.7|       0|    no|northwest|21984.47|    0.0|       0.0|       1.0|[33.0,22.7,0.0,0....|\n",
            "| 32|  male|28.9|       0|    no|northwest| 3866.86|    0.0|       0.0|       1.0|[32.0,28.9,0.0,0....|\n",
            "| 31|female|25.7|       0|    no|southeast| 3756.62|    1.0|       0.0|       0.0|[31.0,25.7,0.0,1....|\n",
            "| 46|female|33.4|       1|    no|southeast| 8240.59|    1.0|       0.0|       0.0|[46.0,33.4,1.0,1....|\n",
            "| 37|female|27.7|       3|    no|northwest| 7281.51|    1.0|       0.0|       1.0|[37.0,27.7,3.0,1....|\n",
            "| 37|  male|29.8|       2|    no|northeast| 6406.41|    0.0|       0.0|       3.0|[37.0,29.8,2.0,0....|\n",
            "| 60|female|25.8|       0|    no|northwest|28923.14|    1.0|       0.0|       1.0|[60.0,25.8,0.0,1....|\n",
            "| 25|  male|26.2|       0|    no|northeast| 2721.32|    0.0|       0.0|       3.0|[25.0,26.2,0.0,0....|\n",
            "| 62|female|26.3|       0|   yes|southeast|27808.73|    1.0|       1.0|       0.0|[62.0,26.3,0.0,1....|\n",
            "| 23|  male|34.4|       0|    no|southwest| 1826.84|    0.0|       0.0|       2.0|[23.0,34.4,0.0,0....|\n",
            "| 56|female|39.8|       0|    no|southeast|11090.72|    1.0|       0.0|       0.0|[56.0,39.8,0.0,1....|\n",
            "| 27|  male|42.1|       0|   yes|southeast|39611.76|    0.0|       1.0|       0.0|[27.0,42.1,0.0,0....|\n",
            "| 19|  male|24.6|       1|    no|southwest| 1837.24|    0.0|       0.0|       2.0|[19.0,24.6,1.0,0....|\n",
            "| 52|female|30.8|       1|    no|northeast|10797.34|    1.0|       0.0|       3.0|[52.0,30.8,1.0,1....|\n",
            "| 23|  male|23.8|       0|    no|northeast| 2395.17|    0.0|       0.0|       3.0|[23.0,23.8,0.0,0....|\n",
            "| 56|  male|40.3|       0|    no|southwest|10602.39|    0.0|       0.0|       2.0|[56.0,40.3,0.0,0....|\n",
            "| 30|  male|35.3|       0|   yes|southwest|36837.47|    0.0|       1.0|       2.0|[30.0,35.3,0.0,0....|\n",
            "+---+------+----+--------+------+---------+--------+-------+----------+----------+--------------------+\n",
            "only showing top 20 rows\n",
            "\n"
          ]
        }
      ]
    },
    {
      "cell_type": "code",
      "source": [
        "output.select('features','expenses').show()"
      ],
      "metadata": {
        "colab": {
          "base_uri": "https://localhost:8080/"
        },
        "id": "ipkm-iVxSQEV",
        "outputId": "f6d34e9b-d673-4f01-ff34-5e55309af9aa"
      },
      "execution_count": 30,
      "outputs": [
        {
          "output_type": "stream",
          "name": "stdout",
          "text": [
            "+--------------------+--------+\n",
            "|            features|expenses|\n",
            "+--------------------+--------+\n",
            "|[19.0,27.9,0.0,1....|16884.92|\n",
            "|[18.0,33.8,1.0,0....| 1725.55|\n",
            "|[28.0,33.0,3.0,0....| 4449.46|\n",
            "|[33.0,22.7,0.0,0....|21984.47|\n",
            "|[32.0,28.9,0.0,0....| 3866.86|\n",
            "|[31.0,25.7,0.0,1....| 3756.62|\n",
            "|[46.0,33.4,1.0,1....| 8240.59|\n",
            "|[37.0,27.7,3.0,1....| 7281.51|\n",
            "|[37.0,29.8,2.0,0....| 6406.41|\n",
            "|[60.0,25.8,0.0,1....|28923.14|\n",
            "|[25.0,26.2,0.0,0....| 2721.32|\n",
            "|[62.0,26.3,0.0,1....|27808.73|\n",
            "|[23.0,34.4,0.0,0....| 1826.84|\n",
            "|[56.0,39.8,0.0,1....|11090.72|\n",
            "|[27.0,42.1,0.0,0....|39611.76|\n",
            "|[19.0,24.6,1.0,0....| 1837.24|\n",
            "|[52.0,30.8,1.0,1....|10797.34|\n",
            "|[23.0,23.8,0.0,0....| 2395.17|\n",
            "|[56.0,40.3,0.0,0....|10602.39|\n",
            "|[30.0,35.3,0.0,0....|36837.47|\n",
            "+--------------------+--------+\n",
            "only showing top 20 rows\n",
            "\n"
          ]
        }
      ]
    },
    {
      "cell_type": "code",
      "source": [
        "final_data=output.select('features','expenses')"
      ],
      "metadata": {
        "id": "c0WQt2gSTHuh"
      },
      "execution_count": 31,
      "outputs": []
    },
    {
      "cell_type": "code",
      "source": [
        "final_data.show()"
      ],
      "metadata": {
        "colab": {
          "base_uri": "https://localhost:8080/"
        },
        "id": "-IvX5dbwTVsJ",
        "outputId": "49825d40-c7e4-4a1b-847a-14793c4e4ade"
      },
      "execution_count": 32,
      "outputs": [
        {
          "output_type": "stream",
          "name": "stdout",
          "text": [
            "+--------------------+--------+\n",
            "|            features|expenses|\n",
            "+--------------------+--------+\n",
            "|[19.0,27.9,0.0,1....|16884.92|\n",
            "|[18.0,33.8,1.0,0....| 1725.55|\n",
            "|[28.0,33.0,3.0,0....| 4449.46|\n",
            "|[33.0,22.7,0.0,0....|21984.47|\n",
            "|[32.0,28.9,0.0,0....| 3866.86|\n",
            "|[31.0,25.7,0.0,1....| 3756.62|\n",
            "|[46.0,33.4,1.0,1....| 8240.59|\n",
            "|[37.0,27.7,3.0,1....| 7281.51|\n",
            "|[37.0,29.8,2.0,0....| 6406.41|\n",
            "|[60.0,25.8,0.0,1....|28923.14|\n",
            "|[25.0,26.2,0.0,0....| 2721.32|\n",
            "|[62.0,26.3,0.0,1....|27808.73|\n",
            "|[23.0,34.4,0.0,0....| 1826.84|\n",
            "|[56.0,39.8,0.0,1....|11090.72|\n",
            "|[27.0,42.1,0.0,0....|39611.76|\n",
            "|[19.0,24.6,1.0,0....| 1837.24|\n",
            "|[52.0,30.8,1.0,1....|10797.34|\n",
            "|[23.0,23.8,0.0,0....| 2395.17|\n",
            "|[56.0,40.3,0.0,0....|10602.39|\n",
            "|[30.0,35.3,0.0,0....|36837.47|\n",
            "+--------------------+--------+\n",
            "only showing top 20 rows\n",
            "\n"
          ]
        }
      ]
    },
    {
      "cell_type": "code",
      "source": [
        "train_data,test_data=final_data.randomSplit([0.7,0.3])"
      ],
      "metadata": {
        "id": "eD01umTSTZLO"
      },
      "execution_count": 33,
      "outputs": []
    },
    {
      "cell_type": "code",
      "source": [
        "from pyspark.ml.regression import LinearRegression"
      ],
      "metadata": {
        "id": "wzTqX_mfT0mr"
      },
      "execution_count": 35,
      "outputs": []
    },
    {
      "cell_type": "code",
      "source": [
        "lr=LinearRegression(featuresCol='features',labelCol='expenses')"
      ],
      "metadata": {
        "id": "883osD_RUUwN"
      },
      "execution_count": 36,
      "outputs": []
    },
    {
      "cell_type": "code",
      "source": [
        "model=lr.fit(train_data) # similar to lr.fit(x_train,y_train)"
      ],
      "metadata": {
        "id": "iBEyIVzoUfjA"
      },
      "execution_count": 37,
      "outputs": []
    },
    {
      "cell_type": "code",
      "source": [
        "prediction_train=model.evaluate(train_data)"
      ],
      "metadata": {
        "id": "X4lh363WUtir"
      },
      "execution_count": 39,
      "outputs": []
    },
    {
      "cell_type": "code",
      "source": [
        "prediction_test=model.evaluate(test_data)"
      ],
      "metadata": {
        "id": "xYldqX6qU-A_"
      },
      "execution_count": 40,
      "outputs": []
    },
    {
      "cell_type": "code",
      "source": [
        "prediction_train.r2"
      ],
      "metadata": {
        "colab": {
          "base_uri": "https://localhost:8080/"
        },
        "id": "0LclukW0VLbR",
        "outputId": "c51966a2-9269-447b-a381-40f3ab1a5953"
      },
      "execution_count": 41,
      "outputs": [
        {
          "output_type": "execute_result",
          "data": {
            "text/plain": [
              "0.7437209293258027"
            ]
          },
          "metadata": {},
          "execution_count": 41
        }
      ]
    },
    {
      "cell_type": "code",
      "source": [
        "prediction_test.r2"
      ],
      "metadata": {
        "colab": {
          "base_uri": "https://localhost:8080/"
        },
        "id": "0I6IyWa8VSh-",
        "outputId": "baf66fad-6cbe-472a-a145-89f33ff1fe3e"
      },
      "execution_count": 42,
      "outputs": [
        {
          "output_type": "execute_result",
          "data": {
            "text/plain": [
              "0.7563327351987863"
            ]
          },
          "metadata": {},
          "execution_count": 42
        }
      ]
    },
    {
      "cell_type": "code",
      "source": [
        "# not much overfitting"
      ],
      "metadata": {
        "id": "zjSpbEX7VVIx"
      },
      "execution_count": 43,
      "outputs": []
    },
    {
      "cell_type": "code",
      "source": [
        "prediction_train.meanSquaredError"
      ],
      "metadata": {
        "colab": {
          "base_uri": "https://localhost:8080/"
        },
        "id": "rGsYWCECVfcs",
        "outputId": "916adb04-52ad-4459-9f16-46329d2a2721"
      },
      "execution_count": 45,
      "outputs": [
        {
          "output_type": "execute_result",
          "data": {
            "text/plain": [
              "34363770.14563621"
            ]
          },
          "metadata": {},
          "execution_count": 45
        }
      ]
    },
    {
      "cell_type": "code",
      "source": [
        "prediction_test.meanSquaredError"
      ],
      "metadata": {
        "colab": {
          "base_uri": "https://localhost:8080/"
        },
        "id": "ypxBewNzVYNx",
        "outputId": "6ba7e5b7-b543-4884-fac6-84138f6784fd"
      },
      "execution_count": 44,
      "outputs": [
        {
          "output_type": "execute_result",
          "data": {
            "text/plain": [
              "42746539.22052919"
            ]
          },
          "metadata": {},
          "execution_count": 44
        }
      ]
    },
    {
      "cell_type": "code",
      "source": [
        "# Print evaluation metrics\n",
        "print(f\"Training R-squared: {prediction_train.r2}\")\n",
        "print(f\"Test R-squared: {prediction_test.r2}\")\n",
        "print(f\"Training Mean Squared Error: {prediction_train.meanSquaredError}\")\n",
        "print(f\"Test Mean Squared Error: {prediction_test.meanSquaredError}\")"
      ],
      "metadata": {
        "colab": {
          "base_uri": "https://localhost:8080/"
        },
        "id": "QNiJe3cYWcdU",
        "outputId": "74da4f29-878b-4459-ecb8-fa1361df4566"
      },
      "execution_count": 46,
      "outputs": [
        {
          "output_type": "stream",
          "name": "stdout",
          "text": [
            "Training R-squared: 0.7437209293258027\n",
            "Test R-squared: 0.7563327351987863\n",
            "Training Mean Squared Error: 34363770.14563621\n",
            "Test Mean Squared Error: 42746539.22052919\n"
          ]
        }
      ]
    },
    {
      "cell_type": "code",
      "source": [
        "from pyspark.ml.tuning import ParamGridBuilder, CrossValidator\n",
        "from pyspark.ml.evaluation import RegressionEvaluator\n",
        "\n",
        "# Create a ParamGrid for CrossValidator\n",
        "paramGrid = ParamGridBuilder() \\\n",
        "    .addGrid(lr.regParam, [0.01, 0.1, 0.5]) \\\n",
        "    .addGrid(lr.elasticNetParam, [0.0, 0.5, 1.0]) \\\n",
        "    .build()\n",
        "\n",
        "# Create a RegressionEvaluator\n",
        "evaluator = RegressionEvaluator(labelCol=\"expenses\", predictionCol=\"prediction\", metricName=\"r2\")\n",
        "\n",
        "# Create a CrossValidator\n",
        "cv = CrossValidator(estimator=lr, estimatorParamMaps=paramGrid, evaluator=evaluator, numFolds=3) # Use 3 folds for cross-validation\n",
        "\n",
        "# Run cross-validation\n",
        "cvModel = cv.fit(train_data)\n",
        "\n",
        "# Make predictions on the test data using the best model from cross-validation\n",
        "predictions = cvModel.transform(test_data)\n",
        "\n",
        "# Evaluate the best model\n",
        "r2 = evaluator.evaluate(predictions)\n",
        "mse = evaluator.evaluate(predictions, {evaluator.metricName: \"mse\"})\n",
        "\n",
        "# Print evaluation metrics\n",
        "print(f\"Cross-validated R-squared: {r2}\")\n",
        "print(f\"Cross-validated Mean Squared Error: {mse}\")"
      ],
      "metadata": {
        "colab": {
          "base_uri": "https://localhost:8080/"
        },
        "id": "i_zet7KVWc64",
        "outputId": "6b8bfb21-81a6-477e-f518-45de6afd4433"
      },
      "execution_count": 47,
      "outputs": [
        {
          "output_type": "stream",
          "name": "stdout",
          "text": [
            "Cross-validated R-squared: 0.7563236989060906\n",
            "Cross-validated Mean Squared Error: 42748124.457021415\n"
          ]
        }
      ]
    },
    {
      "cell_type": "code",
      "source": [],
      "metadata": {
        "id": "baDBCMZoXRJY"
      },
      "execution_count": null,
      "outputs": []
    }
  ]
}